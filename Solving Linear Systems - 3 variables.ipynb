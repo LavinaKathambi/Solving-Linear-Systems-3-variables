{
 "cells": [
  {
   "cell_type": "markdown",
   "id": "31d0fcd1",
   "metadata": {},
   "source": [
    "# Solving Linear Systems: 3 variables"
   ]
  },
  {
   "cell_type": "markdown",
   "id": "e8851aa7",
   "metadata": {},
   "source": [
    "In this notebook we will:\n",
    "1. Use `NumPy` linear algebra package to find the solutions to the system of linear equations\n",
    "2. Perform row reduction to bring matrix into row echelon form\n",
    "3. Find the solution for the system of linear equations using row reduced matrix\n",
    "4. Evaluate the determinant of the matrix\n",
    "5. See the connection between matrix singularity and the number of solutions of the linear system"
   ]
  },
  {
   "cell_type": "markdown",
   "id": "c463c8dc",
   "metadata": {},
   "source": [
    "### import package"
   ]
  },
  {
   "cell_type": "code",
   "execution_count": 1,
   "id": "0814da87",
   "metadata": {},
   "outputs": [],
   "source": [
    "import numpy as np"
   ]
  },
  {
   "cell_type": "markdown",
   "id": "536d073c",
   "metadata": {},
   "source": [
    "## 1. Using NumPy linear algebra package to find the solutions to the system of linear equations"
   ]
  },
  {
   "cell_type": "markdown",
   "id": "44abd933",
   "metadata": {},
   "source": [
    "<a name='1.1'></a>\n",
    "### 1.1 - System of Linear Equations\n",
    "\n",
    "Here is a **system of linear equations** (or **linear system**) with three equations and three unknown variables:\n",
    "\n",
    "\n",
    "$$\\begin{cases} \n",
    "4x_1-3x_2+x_3=-10, \\\\ 2x_1+x_2+3x_3=0, \\\\ -x_1+2x_2-5x_3=17, \\end{cases}\\tag{1}$$\n",
    "\n",
    "**To solve** this system of linear equations means to find such values of the variables $x_1$, $x_2$, $x_3$, that all of its equations are simultaneously satisfied."
   ]
  },
  {
   "cell_type": "code",
   "execution_count": 2,
   "id": "7778af76",
   "metadata": {},
   "outputs": [
    {
     "name": "stdout",
     "output_type": "stream",
     "text": [
      "[[ 4. -3.  1.]\n",
      " [ 2.  1.  3.]\n",
      " [-1.  2. -5.]]\n",
      "(3, 3)\n"
     ]
    }
   ],
   "source": [
    "A = np.array([\n",
    "    [4,-3,1],\n",
    "    [2,1,3],\n",
    "    [-1,2,-5]], \n",
    "    dtype=np.dtype(float))\n",
    "print(A)\n",
    "print(A.shape)"
   ]
  },
  {
   "cell_type": "code",
   "execution_count": 3,
   "id": "e03ad2c9",
   "metadata": {},
   "outputs": [
    {
     "name": "stdout",
     "output_type": "stream",
     "text": [
      "[-10.   0.  17.]\n",
      "(3,)\n"
     ]
    }
   ],
   "source": [
    "b = np.array([-10,0,17],dtype=np.dtype(float))\n",
    "print(b)\n",
    "print(b.shape)"
   ]
  },
  {
   "cell_type": "markdown",
   "id": "a7725eb6",
   "metadata": {},
   "source": [
    "### Using Numpy's inbuilt `np.linalg.solve(A,b)` function"
   ]
  },
  {
   "cell_type": "code",
   "execution_count": 4,
   "id": "7f6a9d3e",
   "metadata": {},
   "outputs": [
    {
     "data": {
      "text/plain": [
       "array([ 1.,  4., -2.])"
      ]
     },
     "execution_count": 4,
     "metadata": {},
     "output_type": "execute_result"
    }
   ],
   "source": [
    "np.linalg.solve(A,b)"
   ]
  },
  {
   "cell_type": "markdown",
   "id": "1b2e83f2",
   "metadata": {},
   "source": [
    "### Finding the determinant using numpy's inbuilt `np.linalg.det(A)` function"
   ]
  },
  {
   "cell_type": "code",
   "execution_count": 5,
   "id": "bf750cdd",
   "metadata": {},
   "outputs": [
    {
     "name": "stdout",
     "output_type": "stream",
     "text": [
      "The determinant is: -60.00\n"
     ]
    }
   ],
   "source": [
    "A_det = np.linalg.det(A)\n",
    "print(\"The determinant is: {:.2f}\".format(A_det))"
   ]
  },
  {
   "cell_type": "markdown",
   "id": "5f22ccf0",
   "metadata": {},
   "source": [
    "## 2. Solving System of Linear Equations using Row Reduction¶"
   ]
  },
  {
   "cell_type": "markdown",
   "id": "5b7357d6",
   "metadata": {},
   "source": [
    "### 2.1 Preparation for Row Reduction - Stacking to a large Matrix"
   ]
  },
  {
   "cell_type": "code",
   "execution_count": 6,
   "id": "d590132d",
   "metadata": {},
   "outputs": [
    {
     "data": {
      "text/plain": [
       "array([[  4.,  -3.,   1., -10.],\n",
       "       [  2.,   1.,   3.,   0.],\n",
       "       [ -1.,   2.,  -5.,  17.]])"
      ]
     },
     "execution_count": 6,
     "metadata": {},
     "output_type": "execute_result"
    }
   ],
   "source": [
    "main = np.hstack((A,(b.reshape(3,1))))\n",
    "main"
   ]
  },
  {
   "cell_type": "markdown",
   "id": "3ac712fa",
   "metadata": {},
   "source": [
    "### 2.1 Defining Functions for Elementary Operations"
   ]
  },
  {
   "cell_type": "markdown",
   "id": "0689b9aa",
   "metadata": {},
   "source": [
    "### Function 1 - Multiplying Rows by a non-zero number"
   ]
  },
  {
   "cell_type": "code",
   "execution_count": 7,
   "id": "b2a4a9f0",
   "metadata": {},
   "outputs": [],
   "source": [
    "def Multiply_Rows(matrix, row_x, multiple):\n",
    "    m_copy = matrix.copy()\n",
    "    m_copy[row_x] = m_copy[row_x] * multiple\n",
    "    return m_copy"
   ]
  },
  {
   "cell_type": "markdown",
   "id": "b1e0e500",
   "metadata": {},
   "source": [
    "### Function 2 - Multiplying and Adding Rows"
   ]
  },
  {
   "cell_type": "code",
   "execution_count": 8,
   "id": "b1f3382f",
   "metadata": {},
   "outputs": [],
   "source": [
    "def Add_Rows(matrix, row_x, row_y, multiple):\n",
    "    m_copy = matrix.copy()\n",
    "    m_copy[row_x] = (multiple * m_copy[row_y]) + m_copy[row_x]\n",
    "    return m_copy"
   ]
  },
  {
   "cell_type": "markdown",
   "id": "2537e32a",
   "metadata": {},
   "source": [
    "### Function 3 - Swaping Rows"
   ]
  },
  {
   "cell_type": "code",
   "execution_count": 9,
   "id": "9a03cb71",
   "metadata": {},
   "outputs": [],
   "source": [
    "def Swap_Rows(matrix, row_x, row_y):\n",
    "    m_copy = matrix.copy()\n",
    "    m_copy[[row_x, row_y]] = m_copy[[row_y,row_x]]\n",
    "    return m_copy"
   ]
  },
  {
   "cell_type": "code",
   "execution_count": 10,
   "id": "21a20979",
   "metadata": {},
   "outputs": [
    {
     "data": {
      "text/plain": [
       "array([[  4.,  -3.,   1., -10.],\n",
       "       [  2.,   1.,   3.,   0.],\n",
       "       [ -1.,   2.,  -5.,  17.]])"
      ]
     },
     "execution_count": 10,
     "metadata": {},
     "output_type": "execute_result"
    }
   ],
   "source": [
    "main"
   ]
  },
  {
   "cell_type": "markdown",
   "id": "e8c5ae9b",
   "metadata": {},
   "source": [
    "### 2.2 Calling the Functions"
   ]
  },
  {
   "cell_type": "code",
   "execution_count": 11,
   "id": "28b9fd0d",
   "metadata": {},
   "outputs": [
    {
     "data": {
      "text/plain": [
       "array([[ -1.,   2.,  -5.,  17.],\n",
       "       [  2.,   1.,   3.,   0.],\n",
       "       [  4.,  -3.,   1., -10.]])"
      ]
     },
     "execution_count": 11,
     "metadata": {},
     "output_type": "execute_result"
    }
   ],
   "source": [
    "# Swapping \n",
    "A_ref = Swap_Rows(main,0,2)\n",
    "A_ref"
   ]
  },
  {
   "cell_type": "markdown",
   "id": "fe114e41",
   "metadata": {},
   "source": [
    "Make the first elements in the second and third row zero"
   ]
  },
  {
   "cell_type": "code",
   "execution_count": 12,
   "id": "4a3b59cc",
   "metadata": {},
   "outputs": [
    {
     "data": {
      "text/plain": [
       "array([[ -1.,   2.,  -5.,  17.],\n",
       "       [  0.,   5.,  -7.,  34.],\n",
       "       [  4.,  -3.,   1., -10.]])"
      ]
     },
     "execution_count": 12,
     "metadata": {},
     "output_type": "execute_result"
    }
   ],
   "source": [
    "# multiply row 0 of the new matrix A_ref by 2 and add it to the row 1\n",
    "A_ref = Add_Rows(A_ref, 1, 0, 2)\n",
    "A_ref"
   ]
  },
  {
   "cell_type": "code",
   "execution_count": 13,
   "id": "d54795e1",
   "metadata": {},
   "outputs": [
    {
     "data": {
      "text/plain": [
       "array([[ -1.,   2.,  -5.,  17.],\n",
       "       [  0.,   5.,  -7.,  34.],\n",
       "       [  0.,   5., -19.,  58.]])"
      ]
     },
     "execution_count": 13,
     "metadata": {},
     "output_type": "execute_result"
    }
   ],
   "source": [
    "# multiply row 0 of the new matrix A_ref by 4 and add it to the row 2\n",
    "A_ref = Add_Rows(A_ref, 2, 0, 4)\n",
    "A_ref"
   ]
  },
  {
   "cell_type": "markdown",
   "id": "25e08c23",
   "metadata": {},
   "source": [
    "The next step will be to perform an operation by putting the second element in the third row equal to zero:"
   ]
  },
  {
   "cell_type": "code",
   "execution_count": 14,
   "id": "85aea14e",
   "metadata": {},
   "outputs": [
    {
     "data": {
      "text/plain": [
       "array([[ -1.,   2.,  -5.,  17.],\n",
       "       [  0.,   5.,  -7.,  34.],\n",
       "       [  0.,   0., -12.,  24.]])"
      ]
     },
     "execution_count": 14,
     "metadata": {},
     "output_type": "execute_result"
    }
   ],
   "source": [
    "A_ref = Add_Rows(A_ref, 2, 1, -1)\n",
    "A_ref"
   ]
  },
  {
   "cell_type": "markdown",
   "id": "e6687201",
   "metadata": {},
   "source": [
    "It is easy now to find the value of $x_3$ from the third row, as it corresponds to the equation $-12x_3=24$. Let's divide the row by -12:"
   ]
  },
  {
   "cell_type": "code",
   "execution_count": 15,
   "id": "b39ae0e0",
   "metadata": {},
   "outputs": [
    {
     "data": {
      "text/plain": [
       "array([[-1.,  2., -5., 17.],\n",
       "       [ 0.,  5., -7., 34.],\n",
       "       [-0., -0.,  1., -2.]])"
      ]
     },
     "execution_count": 15,
     "metadata": {},
     "output_type": "execute_result"
    }
   ],
   "source": [
    "A_ref = Multiply_Rows(A_ref, 2, -1/12)\n",
    "A_ref"
   ]
  },
  {
   "cell_type": "markdown",
   "id": "e8320186",
   "metadata": {},
   "source": [
    "Now the second row of the matrix corresponds to the equation $5x_2-7x_3=34$ and the first row to the equation $-x_1+2x_2-5x_3=17$. Referring to the elements of the matrix, you can find the values of $x_2$ and $x_1$:"
   ]
  },
  {
   "cell_type": "code",
   "execution_count": 16,
   "id": "dd17825d",
   "metadata": {},
   "outputs": [],
   "source": [
    "x_3 = -2"
   ]
  },
  {
   "cell_type": "code",
   "execution_count": 17,
   "id": "c46d319c",
   "metadata": {},
   "outputs": [
    {
     "data": {
      "text/plain": [
       "4.0"
      ]
     },
     "execution_count": 17,
     "metadata": {},
     "output_type": "execute_result"
    }
   ],
   "source": [
    "x_2 = (A_ref[1,3] - A_ref[1,2]*x_3)/A_ref[1,1]\n",
    "x_2"
   ]
  },
  {
   "cell_type": "code",
   "execution_count": 18,
   "id": "8e362993",
   "metadata": {},
   "outputs": [
    {
     "data": {
      "text/plain": [
       "1.0"
      ]
     },
     "execution_count": 18,
     "metadata": {},
     "output_type": "execute_result"
    }
   ],
   "source": [
    "x_1 = (A_ref[0,3]- (A_ref[0,1]*x_2) - (A_ref[0,2]*x_3))/A_ref[0,0]\n",
    "x_1"
   ]
  },
  {
   "cell_type": "code",
   "execution_count": 19,
   "id": "7bfce9b1",
   "metadata": {},
   "outputs": [
    {
     "name": "stdout",
     "output_type": "stream",
     "text": [
      "1.0\n",
      "4.0\n",
      "-2\n"
     ]
    }
   ],
   "source": [
    "print(x_1)\n",
    "print(x_2)\n",
    "print(x_3)"
   ]
  },
  {
   "cell_type": "markdown",
   "id": "f08086e3",
   "metadata": {},
   "source": [
    "### BONUS  - System of Linear Equations with No Solutions"
   ]
  },
  {
   "cell_type": "markdown",
   "id": "7df9040d",
   "metadata": {},
   "source": [
    "Given another system of linear equations:\n",
    "\n",
    "$$\\begin{cases} \n",
    "x_1+x_2+x_3=2, \\\\ x_2-3x_3=1, \\\\ 2x_1+x_2+5x_3=0, \\end{cases}\\tag{2}$$\n",
    "\n",
    "let's find the determinant of the corresponding matrix."
   ]
  },
  {
   "cell_type": "code",
   "execution_count": 20,
   "id": "2f2abda0",
   "metadata": {},
   "outputs": [
    {
     "data": {
      "text/plain": [
       "array([[ 1.,  1.,  1.],\n",
       "       [ 0.,  1., -3.],\n",
       "       [ 2.,  1.,  5.]])"
      ]
     },
     "execution_count": 20,
     "metadata": {},
     "output_type": "execute_result"
    }
   ],
   "source": [
    "A_2= np.array([\n",
    "        [1, 1, 1],\n",
    "        [0, 1, -3],\n",
    "        [2, 1, 5]\n",
    "    ], dtype=np.dtype(float))\n",
    "A_2"
   ]
  },
  {
   "cell_type": "code",
   "execution_count": 21,
   "id": "a5644d2b",
   "metadata": {},
   "outputs": [
    {
     "data": {
      "text/plain": [
       "array([2., 1., 0.])"
      ]
     },
     "execution_count": 21,
     "metadata": {},
     "output_type": "execute_result"
    }
   ],
   "source": [
    "b_2 = np.array([2, 1, 0], dtype=np.dtype(float))\n",
    "b_2"
   ]
  },
  {
   "cell_type": "code",
   "execution_count": 22,
   "id": "d1ce3bd1",
   "metadata": {},
   "outputs": [
    {
     "name": "stdout",
     "output_type": "stream",
     "text": [
      "Determinant of matrix A_2: 0.00\n"
     ]
    }
   ],
   "source": [
    "d_2 = np.linalg.det(A_2)\n",
    "print(f\"Determinant of matrix A_2: {d_2:.2f}\")"
   ]
  },
  {
   "cell_type": "code",
   "execution_count": 23,
   "id": "793bd1d7",
   "metadata": {},
   "outputs": [
    {
     "name": "stdout",
     "output_type": "stream",
     "text": [
      "Singular matrix\n"
     ]
    }
   ],
   "source": [
    "try:\n",
    "    np.linalg.solve(A_2,b_2)\n",
    "except np.linalg.LinAlgError as err:\n",
    "    print(err)"
   ]
  },
  {
   "cell_type": "code",
   "execution_count": 24,
   "id": "45b6e6d2",
   "metadata": {},
   "outputs": [
    {
     "data": {
      "text/plain": [
       "array([[ 1.,  1.,  1.,  2.],\n",
       "       [ 0.,  1., -3.,  1.],\n",
       "       [ 2.,  1.,  5.,  0.]])"
      ]
     },
     "execution_count": 24,
     "metadata": {},
     "output_type": "execute_result"
    }
   ],
   "source": [
    "main_2 = np.hstack((A_2, b_2.reshape((3, 1))))\n",
    "main_2"
   ]
  },
  {
   "cell_type": "code",
   "execution_count": 25,
   "id": "0093b023",
   "metadata": {},
   "outputs": [
    {
     "data": {
      "text/plain": [
       "array([[ 1.,  1.,  1.,  2.],\n",
       "       [ 0.,  1., -3.,  1.],\n",
       "       [ 0., -1.,  3., -4.]])"
      ]
     },
     "execution_count": 25,
     "metadata": {},
     "output_type": "execute_result"
    }
   ],
   "source": [
    "# multiply row 0 by -2 and add it to the row 2\n",
    "A_ref2 = Add_Rows(main_2, 2, 0, -2)\n",
    "A_ref2"
   ]
  },
  {
   "cell_type": "code",
   "execution_count": 26,
   "id": "8dcdeb3a",
   "metadata": {},
   "outputs": [
    {
     "data": {
      "text/plain": [
       "array([[ 1.,  1.,  1.,  2.],\n",
       "       [ 0.,  1., -3.,  1.],\n",
       "       [ 0.,  0.,  0., -3.]])"
      ]
     },
     "execution_count": 26,
     "metadata": {},
     "output_type": "execute_result"
    }
   ],
   "source": [
    "# add row 1 of the new matrix A_2_ref to the row 2\n",
    "A_ref2 = Add_Rows(A_ref2, 2, 1, 1)\n",
    "A_ref2"
   ]
  },
  {
   "cell_type": "markdown",
   "id": "5286c0ea",
   "metadata": {},
   "source": [
    "The last row will correspond to the equation $0=-3$ which has no solution. Thus the whole linear system $(2)$ has no solution."
   ]
  },
  {
   "cell_type": "markdown",
   "id": "a36f7baa",
   "metadata": {},
   "source": [
    "### Bonus 2 - System of Linear Equations with Infinite Number of Solutions"
   ]
  },
  {
   "cell_type": "markdown",
   "id": "b0286038",
   "metadata": {},
   "source": [
    "You can bring system $(2)$ to consistency by changing only the free coefficients:\n",
    "\n",
    "$$\\begin{cases} \n",
    "x_1+x_2+x_3=2, \\\\ x_2-3x_3=1, \\\\ 2x_1+x_2+5x_3=3. \\end{cases}\\tag{3}$$\n",
    "\n",
    "Define the new array of free coefficients:"
   ]
  },
  {
   "cell_type": "code",
   "execution_count": 27,
   "id": "84f871c8",
   "metadata": {},
   "outputs": [
    {
     "data": {
      "text/plain": [
       "array([2, 1, 3])"
      ]
     },
     "execution_count": 27,
     "metadata": {},
     "output_type": "execute_result"
    }
   ],
   "source": [
    "b_3 = np.array([2, 1, 3])\n",
    "b_3"
   ]
  },
  {
   "cell_type": "code",
   "execution_count": 28,
   "id": "b0a7351d",
   "metadata": {},
   "outputs": [
    {
     "data": {
      "text/plain": [
       "array([[ 1.,  1.,  1.,  2.],\n",
       "       [ 0.,  1., -3.,  1.],\n",
       "       [ 2.,  1.,  5.,  3.]])"
      ]
     },
     "execution_count": 28,
     "metadata": {},
     "output_type": "execute_result"
    }
   ],
   "source": [
    "main_3 = np.hstack((A_2, b_3.reshape((3, 1))))\n",
    "main_3"
   ]
  },
  {
   "cell_type": "code",
   "execution_count": 29,
   "id": "153e5f08",
   "metadata": {},
   "outputs": [
    {
     "data": {
      "text/plain": [
       "array([[ 1.,  1.,  1.,  2.],\n",
       "       [ 0.,  1., -3.,  1.],\n",
       "       [ 0., -1.,  3., -1.]])"
      ]
     },
     "execution_count": 29,
     "metadata": {},
     "output_type": "execute_result"
    }
   ],
   "source": [
    "# multiply row 0 of the new matrix A_3_system by -2 and add it to the row 2\n",
    "A_ref3 = Add_Rows(main_3, 2, 0, -2)\n",
    "A_ref3"
   ]
  },
  {
   "cell_type": "code",
   "execution_count": 30,
   "id": "23c63553",
   "metadata": {},
   "outputs": [
    {
     "data": {
      "text/plain": [
       "array([[ 1.,  1.,  1.,  2.],\n",
       "       [ 0.,  1., -3.,  1.],\n",
       "       [ 0.,  0.,  0.,  0.]])"
      ]
     },
     "execution_count": 30,
     "metadata": {},
     "output_type": "execute_result"
    }
   ],
   "source": [
    "# add row 1 of the new matrix A_3_ref to the row 2\n",
    "A_ref3 = Add_Rows(A_ref3, 2, 1, 1)\n",
    "A_ref3"
   ]
  },
  {
   "cell_type": "markdown",
   "id": "f42e2342",
   "metadata": {},
   "source": [
    "Thus from the corresponding linear system\n",
    "\n",
    "$$\\begin{cases} \n",
    "x_1+x_2+x_3=2, \\\\ x_2-3x_3=1, \\\\ 0=0, \\end{cases}\\tag{4}$$\n",
    "\n",
    "you can find that $x_2=1+3x_3$, substitute it into the first equation and find $x_1$. Thus the solutions of the linear system $(3)$ are:\n",
    "\n",
    "$$\\begin{cases} \n",
    "x_1=1-4x_3, \\\\ x_2=1+3x_3, \\end{cases}\\tag{5}$$\n",
    "\n",
    "where $x_3$ is any real number."
   ]
  },
  {
   "cell_type": "markdown",
   "id": "103b5597",
   "metadata": {},
   "source": [
    "The End! <br>\n",
    "We used the `NumPy` functions to solve a system of equations and implemented it  solving it manually. As expected, using a predefined function is much easier, but gives much less insight into what is happening under the hood. \n",
    "<br>Remember that `np.linalg.solve` gives an error if there are no or infinitely many solutions, thus when implementing it you will have to think carefully so not to make your program crash."
   ]
  }
 ],
 "metadata": {
  "kernelspec": {
   "display_name": "Python 3 (ipykernel)",
   "language": "python",
   "name": "python3"
  },
  "language_info": {
   "codemirror_mode": {
    "name": "ipython",
    "version": 3
   },
   "file_extension": ".py",
   "mimetype": "text/x-python",
   "name": "python",
   "nbconvert_exporter": "python",
   "pygments_lexer": "ipython3",
   "version": "3.10.9"
  }
 },
 "nbformat": 4,
 "nbformat_minor": 5
}
